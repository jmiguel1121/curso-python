{
 "cells": [
  {
   "cell_type": "markdown",
   "metadata": {},
   "source": [
    "# Ejemplo de curva ROC"
   ]
  },
  {
   "cell_type": "code",
   "execution_count": 1,
   "metadata": {},
   "outputs": [
    {
     "data": {
      "image/png": "[encoded data removed]",
      "text/plain": [
       "<Figure size 432x288 with 1 Axes>"
      ]
     },
     "metadata": {
      "needs_background": "light"
     },
     "output_type": "display_data"
    }
   ],
   "source": [
    "import matplotlib.pyplot as plt\n",
    "import numpy as np\n",
    "\n",
    "#score = np.array([0.9, 0.8, 0.7, 0.6, 0.55, 0.54, 0.53, 0.52, 0.51, 0.505, 0.4, 0.39, 0.38, 0.37, 0.36, 0.35, 0.34, 0.33, 0.30, 0.1])\n",
    "score = np.random.rand(1000)\n",
    "\n",
    "#y = np.array([1,1,0, 1, 1, 1, 0, 0, 1, 0, 1,0, 1, 0, 0, 0, 1 , 0, 1, 0])\n",
    "y = np.random.randint(2, size=1000)\n",
    "\n",
    "# agrego algunos 1 mas\n",
    "for i in range(len(y)):\n",
    "    if (y[i] == 0) and (score[i]>0.3) and (np.random.randint(2) == 1):\n",
    "        y[i] =  1 \n",
    "for i in range(len(y)):\n",
    "    if (y[i] == 0) and (score[i]>0.5) and (np.random.randint(2) == 1):\n",
    "        y[i] =  1 \n",
    "for i in range(len(y)):\n",
    "    if (y[i] == 0) and (score[i]>0.7) and (np.random.randint(2) == 1):\n",
    "        y[i] =  1 \n",
    "for i in range(len(y)):\n",
    "    if (y[i] == 0) and (score[i]>0.7) and (np.random.randint(2) == 1):\n",
    "        y[i] =  1 \n",
    "\n",
    "\n",
    "#print(score)\n",
    "#print(y)\n",
    "\n",
    "# false positive rate\n",
    "fpr = []\n",
    "\n",
    "# true positive rate\n",
    "tpr = []\n",
    "\n",
    "# umbrales 0.0, 0.01, ... 1.0\n",
    "thresholds = np.arange(0.0, 1.01, .01)\n",
    "\n",
    "# obtengo el número de ejemplos positivos y negativos en el conjunto de datos\n",
    "P = sum(y)\n",
    "N = len(y) - P\n",
    "\n",
    "# itero a través de todos los umbrales y determinar la fracción de \n",
    "# verdaderos positivos y falsos positivos que encontramos en este umbral\n",
    "for thresh in thresholds:\n",
    "    FP=0\n",
    "    TP=0\n",
    "    for i in range(len(score)):\n",
    "        if (score[i] > thresh):\n",
    "            if y[i] == 1:\n",
    "                TP = TP + 1\n",
    "            else:\n",
    "                FP = FP + 1\n",
    "    fpr.append(FP/float(N))\n",
    "    tpr.append(TP/float(P))\n",
    "\n",
    "plt.scatter(fpr, tpr)\n",
    "plt.show()\n",
    "\n",
    "\n"
   ]
  }
 ],
 "metadata": {
  "interpreter": {
   "hash": "40ed443119a75e250f783727a1a677600f6f0d1b3c33f025da5db3359c1b33d6"
  },
  "kernelspec": {
   "display_name": "Python 3.8.6 ('timeseries')",
   "language": "python",
   "name": "python3"
  },
  "language_info": {
   "codemirror_mode": {
    "name": "ipython",
    "version": 3
   },
   "file_extension": ".py",
   "mimetype": "text/x-python",
   "name": "python",
   "nbconvert_exporter": "python",
   "pygments_lexer": "ipython3",
   "version": "3.7.9"
  },
  "orig_nbformat": 4
 },
 "nbformat": 4,
 "nbformat_minor": 2
}
